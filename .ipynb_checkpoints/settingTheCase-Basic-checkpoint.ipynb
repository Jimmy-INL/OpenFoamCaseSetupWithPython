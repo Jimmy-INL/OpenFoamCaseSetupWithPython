{
 "cells": [
  {
   "cell_type": "markdown",
   "metadata": {},
   "source": [
    "# Calculation of turbulence boundary conditions"
   ]
  },
  {
   "cell_type": "markdown",
   "metadata": {},
   "source": [
    "Using the $k-\\epsilon$ model one need to specify the inlet value for such quantites. Given the $Re$\n",
    "$$\\begin{align*}\n",
    "k = \\frac{1}{2}{\\bf U}^{\\prime} \\cdot {\\bf U}^{\\prime}\n",
    "\\\\\n",
    "\\epsilon = C_{\\mu}^{0.75} \\frac{k^{3/2}}{l_t}\n",
    "\\end{align*}$$\n",
    "and\n",
    "$$\\begin{equation*}\n",
    "\\nu_t = C_{\\mu} \\frac{k^2}{\\epsilon}\n",
    "\\end{equation*}$$\n",
    "\n",
    "$\\nu_t$ can be calcaulated from  the turbulence intensity and length scale\n",
    "$$\\nu_t = \\sqrt{\\frac{3}{2}} \\left( uIl_t\\right )$$"
   ]
  },
  {
   "cell_type": "markdown",
   "metadata": {},
   "source": [
    "Another importamt quantity to set the time step $\\Delta t$, that can be computed based on Courant Number $Co$\n",
    "\n",
    "$$\\Delta t = Co \\frac{\\Delta x}{u}$$\n",
    "\n",
    "Another parameter is Acoustic Co number defined as\n",
    "\n",
    "$$Co_{acoustic} = \\frac{\\Delta t}{\\Delta x \\sqrt{\\psi}}$$\n",
    "\n",
    "On the same lines $\\omega$ is give as\n",
    "$$\\omega = \\frac{C_{\\mu}\\sqrt{k}}{l_t}$$\n",
    "\n",
    "\n",
    "$$\\omega_{wall} = 10\\frac{6 \\nu}{\\beta_1 (\\Delta d_1)^2}$$\n",
    "\n",
    "where $\\beta_1 = 0.075$, where $\\Delta d_1$ is the distance to the next point away from the wall.\n",
    "\n",
    "\n",
    "While $I$  is the initial turbulence intensity [%] can be computed as\n",
    "$$I=0.16Re^{-{\\frac {1}{8}}}$$"
   ]
  },
  {
   "cell_type": "markdown",
   "metadata": {},
   "source": [
    "In compressible and heat transfer problems, one also need to specify the turbulent Prandl number $Pr_t$. Generally it can be assumed 0.7 to 0.85. A better relations for liquids is given as\n",
    "$$Pr_t = 6.374Re^{-0.238} Pr^{-0.161}$$\n",
    "In case of compressibleInterFoam solver, we need to specify alphat $\\alpha_t$, which is given by\n",
    "$$\\alpha_t = \\frac{\\nu_t}{Pr_t}$$"
   ]
  },
  {
   "cell_type": "markdown",
   "metadata": {},
   "source": [
    "# Calculating first grid point based on yPlus"
   ]
  },
  {
   "cell_type": "markdown",
   "metadata": {},
   "source": [
    "The yPlus relation is given by\n",
    "$$y^+ = \\Delta s \\frac{u^* \\mu}{\\rho} $$\n",
    "where $\\Delta s$ is the distance to first grid point. $u^*$ is the friction velocity explained below. Given a $y^+$ we can estimate the $\\Delta s$ as\n",
    "$$\\Delta s = \\frac{y^+ \\mu}{u^* \\rho}$$\n",
    "\n",
    "## yPlus from WolfDynamics\n",
    "Compute skin friction coefficeint $C_f$\n",
    "\n",
    "For plates we can write\n",
    "$$C_f = 0.058 \\times Re^{-0.2}$$\n",
    "Then calculate the wall shear stress $\\tau_w$\n",
    "$$\\tau_w = \\frac{1}{2} \\times C_f \\times \\rho \\times U^2_{\\infty} $$\n",
    "The calculate the friction velocity $U_\\tau$\n",
    "$$U_{\\tau} = \\sqrt{\\frac{\\tau_w}{\\rho}}$$\n",
    "Finally get the distance $y$ to have a specified $y^+$\n",
    "$$y = \\frac{\\mu \\times y^+ }{\\rho \\times U_{\\tau}}$$"
   ]
  },
  {
   "cell_type": "markdown",
   "metadata": {},
   "source": [
    "# Using the applyBoundaryLayer pre-processing to apply 1/7 power law profile"
   ]
  },
  {
   "cell_type": "markdown",
   "metadata": {},
   "source": [
    "For such a case, one need to specify -ybl value, which is the with of viscous sub layer ($\\delta_{vsc}$), which can be computed using the friction velocity $u^*$, which in turn can be computed using the $\\tau_w$. $\\tau_w$ can be estimated using an approximation of friction factor $f$. Several relations for pipe flow friction factor are avaialable based on $Re$. Forexample,\n",
    "$$ f = 0.3164/Re^{0.25} \\ for \\ Re<10^5$$\n",
    "and based on the wall roughness $\\epsilon_{wall}$, a rough estimate within $\\pm2\\%$ is\n",
    "$$ \\frac{1}{\\sqrt{f}} =-1.8 \\log_{10} \\left[ 6.9/Re + \\left(\\frac{\\epsilon_{wall}/D}{3.7}\\right)^{1.11} \\right]$$"
   ]
  },
  {
   "cell_type": "markdown",
   "metadata": {},
   "source": [
    "The wall shear stress can be computed as\n",
    "$$\\tau_w = \\frac{1}{4}f \\frac{\\rho V^2}{2} = C_f \\frac{\\rho V^2}{2}$$\n",
    "The $C_f$ is the average skin friction coefficient and some expressions are reported at \n",
    "https://www.cfd-online.com/Wiki/Skin_friction_coefficient"
   ]
  },
  {
   "cell_type": "markdown",
   "metadata": {},
   "source": [
    "The friction velocity is then computed as\n",
    "$$ u^* = \\left( \\frac{\\tau_w}{\\rho} \\right)^{1/2} $$"
   ]
  },
  {
   "cell_type": "markdown",
   "metadata": {},
   "source": [
    "Finally, the viscous sub layer thickness computed as\n",
    "$$ \\delta_{vsl} = 5 \\frac{\\nu}{u^*}$$"
   ]
  },
  {
   "cell_type": "markdown",
   "metadata": {},
   "source": [
    "The Taylor based length scale $\\lambda$ can be computed as\n",
    "$$\\lambda_{T} = D_h \\sqrt{10} Re^{-1/2}$$"
   ]
  },
  {
   "cell_type": "markdown",
   "metadata": {},
   "source": [
    "The viscous length scale for pipe can be computed also as [1] (to be checked from a another refererence)\n",
    "$$l_v = 5.0 Re^{-7/8}$$\n",
    "and a Kolmogorov critical radius $l_{cr}$ as\n",
    "$$l_{cr} = \\left(\\frac{\\sigma^3}{\\rho^3 \\epsilon^2}\\right)^{1/5}$$\n",
    "[1]  @techreport{bravo2015high,\n",
    "  title={High fidelity simulation of atomization in diesel engine sprays},\n",
    "  author={Bravo, L and Ivey, CB and Kim, D and Bose, ST},\n",
    "  year={2015},\n",
    "  institution={ARMY RESEARCH LAB ABERDEEN PROVING GROUND MD VEHICLE TECHNOLOGY DIRECTORATE}\n",
    "}"
   ]
  },
  {
   "cell_type": "markdown",
   "metadata": {},
   "source": [
    "## Get the density and other transport properties"
   ]
  },
  {
   "cell_type": "code",
   "execution_count": 128,
   "metadata": {},
   "outputs": [
    {
     "name": "stdout",
     "output_type": "stream",
     "text": [
      "Reference Fluid: isoOctance\n",
      "Reference Temperature [K] 363\n",
      "Reference Pressure [Pa] 600000.0\n",
      "\n",
      " \n",
      "Properties using Thermo package\n",
      "fluid: isoOctane\n",
      "rho 630.878920233745 [kg/m^3]\n",
      "Cp 2387.019259377028 k 0.08221658286752367 mu 0.00025351112239747854 nu 4.018379981749127e-07\n",
      "SurfaceTension 0.012666032395930704\n",
      "pSat 77168.04073477257\n",
      "TSat 450.13103758070014\n",
      "rhoVapor 3.053091533841822\n",
      "End of Thermo results\n",
      "\n",
      " \n",
      "Properties using CoolProp package\n",
      "fluid: nOctane\n",
      "rho 645.1613159924336 [kg/m^3]\n",
      "mu 2.700e-04 [Pa-s] or [Kg/m/s]\n",
      "nu 4.186e-07 [m^2/s]\n",
      "Pr (Cp mu/K) 6.311e+00\n",
      "SurfaceTension 0.015113759968265982\n",
      "Liquid-Vapor saturation properties\n",
      "satT at P[Pa] = 600000.0 is 477.615 [K]\n",
      "satP at T[K] = 363 is 33243.040 [Pa]\n",
      "satRhoVap 1.291 [kg/m3]\n",
      "muVap 6.895e-06 [Pa-s] or [Kg/m/s]\n",
      "nuVap 5.341e-06 [m^2/s]\n",
      "End of CoolProp results \n",
      "\n",
      "Using properties calculated with Thermo package\n"
     ]
    }
   ],
   "source": [
    "import numpy as np\n",
    "from thermo.chemical import Chemical\n",
    "from CoolProp.CoolProp import PropsSI\n",
    "import matplotlib\n",
    "\n",
    "## Input data\n",
    "## Reference caluculation for ECN-Spray G \n",
    "## https://ecn.sandia.gov/gasoline-spray-combustion/target-condition/spray-g-operating-condition/\n",
    "\n",
    "## Get the fluid properties\n",
    "referenceFluid = \"isoOctance\"\n",
    "## Some fluids are not available in both packages\n",
    "fluidNameCoolProp = \"nOctane\"\n",
    "fluidNameThermo = \"isoOctane\"\n",
    "T_fluid = 363  # temperature\n",
    "P_fluid = 6e5  # pressure\n",
    "print(\"Reference Fluid:\", referenceFluid)\n",
    "print(\"Reference Temperature [K]\", T_fluid)\n",
    "print(\"Reference Pressure [Pa]\", P_fluid)\n",
    "\n",
    "\n",
    "## Get properties using Thermo\n",
    "print(\"\\n \")\n",
    "print(\"Properties using Thermo package\")\n",
    "fluid = Chemical(fluidNameThermo)\n",
    "fluid.calculate(T=T_fluid, P=P_fluid)\n",
    "print(\"fluid:\", fluidNameThermo)\n",
    "print(\"rho\", fluid.rho , \"[kg/m^3]\")\n",
    "rhoThermo = fluid.rho\n",
    "muThermo = fluid.mu\n",
    "print(\"Cp\", fluid.Cp, \"k\", fluid.k, \"mu\", fluid.mu, \"nu\", fluid.nu)\n",
    "#fluid.SurfaceTension.plot_T_dependent_property()\n",
    "print(\"SurfaceTension\", fluid.SurfaceTension(T_fluid))\n",
    "print(\"pSat\", fluid.Psat)\n",
    "print(\"TSat\", fluid.Tsat(P_fluid))\n",
    "# Set fluid prop for \n",
    "fluid.calculate(T=T_fluid,P=fluid.Psat)\n",
    "print(\"rhoVapor\", fluid.rho)\n",
    "print(\"End of Thermo results\")\n",
    "\n",
    "## Get properties using CoolProp\n",
    "print(\"\\n \")\n",
    "print(\"Properties using CoolProp package\")\n",
    "print(\"fluid:\", fluidNameCoolProp)\n",
    "rho = PropsSI('D','T',T_fluid,'P',P_fluid,fluidNameCoolProp)\n",
    "print(\"rho\", rho , \"[kg/m^3]\")\n",
    "mu = PropsSI('V','T',T_fluid,'P',P_fluid,fluidNameCoolProp)\n",
    "print(\"mu\", \"{:.3e}\".format(mu), \"[Pa-s] or [Kg/m/s]\")\n",
    "nu = mu/rho\n",
    "print(\"nu\", \"{:.3e}\".format(nu), \"[m^2/s]\")\n",
    "Pr = PropsSI('Prandtl','T',T_fluid,'P',P_fluid,fluidNameCoolProp)\n",
    "print(\"Pr (Cp mu/K)\", \"{:.3e}\".format(Pr))\n",
    "print(\"SurfaceTension\", PropsSI('I','T',T_fluid,'P',P_fluid,fluidNameCoolProp))\n",
    "\n",
    "\n",
    "#Saturation properties\n",
    "print(\"Liquid-Vapor saturation properties\")\n",
    "#Saturation temperature of fluid at P_fluid pressure\n",
    "satT = PropsSI('T','P',P_fluid,'Q',0,fluidNameCoolProp)\n",
    "print(\"satT at P[Pa] =\",P_fluid, \"is\" , \"{:.3f}\".format(satT), \"[K]\")\n",
    "\n",
    "#Saturation pressure of fluid at T_fluid temperature\n",
    "satP = PropsSI('P','T',T_fluid,'Q',0,fluidNameCoolProp)\n",
    "print(\"satP at T[K] =\",T_fluid, \"is\" ,\"{:.3f}\".format(satP), \"[Pa]\")\n",
    "\n",
    "#Saturated vapor density of fluid at T_fluid\n",
    "satRhoVap = PropsSI('D','T',T_fluid,'Q',1,fluidNameCoolProp)\n",
    "print(\"satRhoVap\", \"{:.3f}\".format(satRhoVap), \"[kg/m3]\")\n",
    "\n",
    "#Sat vapor viscosity at given temperature\n",
    "muVap = PropsSI('V','T',T_fluid,'Q',1,fluidNameCoolProp)\n",
    "print(\"muVap\", \"{:.3e}\".format(muVap), \"[Pa-s] or [Kg/m/s]\")\n",
    "nuVap = muVap/satRhoVap\n",
    "print(\"nuVap\", \"{:.3e}\".format(nuVap), \"[m^2/s]\")\n",
    "print(\"End of CoolProp results \\n\")\n",
    "\n",
    "\n",
    "usePackage = \"Thermo\" #CoolProp\n",
    "if usePackage != \"Thermo\":\n",
    "    print(\"Using CoolProp\")\n",
    "if usePackage == \"Thermo\":\n",
    "    print(\"Using properties calculated with Thermo package\")\n",
    "    rho = rhoThermo\n",
    "    mu = muThermo"
   ]
  },
  {
   "cell_type": "markdown",
   "metadata": {},
   "source": [
    "## Flow Characterization"
   ]
  },
  {
   "cell_type": "code",
   "execution_count": 129,
   "metadata": {},
   "outputs": [
    {
     "name": "stdout",
     "output_type": "stream",
     "text": [
      "Flow Charaterization\n",
      "Type is 'pipe', and Dh is 0.000165 [m]\n",
      "Hydraulic Diameter=0.000165\n",
      "mf 0.00175 [kg/s]\n",
      "X-sectional Area 2.138246499849553e-08\n",
      "Re (based on Dh) = 53268.09983635048\n",
      "lambda_T 2.260738559131141e-06 [m]\n",
      "f = 0.020826662226801542\n",
      "Cf = 0.0065786162362349\n",
      "tau_w 27640.393906981997\n",
      "tau_w_Cf 34923.60747050448\n",
      "uTau 7.440233080397397\n",
      "uStar 6.619102490185787\n",
      "viscous sub layer thickness = 3.161723622217641e-07\n",
      "viscous sub layer thickness Cf = 2.812784555935205e-07\n",
      "lv 0.0003658568576761316\n",
      "yPlus =  1.0 requires first cell height [m] 6.071e-08\n",
      "yPlus =  1.0 requires first cell height [m] with Cf  5.401e-08\n"
     ]
    }
   ],
   "source": [
    "print(\"Flow Charaterization\")\n",
    "\n",
    "class calculateDh:\n",
    "    \"\"\"Class to calculate Hydraulic Diameter and Re. Default is Dh=D for pipe.\n",
    "       Examples:\n",
    "            geomPipe = calculateDh(diameter=1e-3); print(geomPipe)\n",
    "            geomDuct = calculateDh(); geomDuct.DhDuct(1,2); print(geomDuct)\n",
    "    \"\"\"\n",
    "    def __init__(self, diameter=1):\n",
    "        self.Dh = diameter\n",
    "        self.name = \"pipe\"\n",
    "        self.Area = (np.pi/4)*diameter**2\n",
    "    def DhDuct(self, height, width):\n",
    "        Dh = 4*(height*width)/(2*(height+width)) #4A/P\n",
    "        self.Dh = Dh\n",
    "        self.name = \"duct\"\n",
    "        self.Area = height*width\n",
    "    def Re(self, rho, mu, U):\n",
    "        return rho*U*self.Dh/mu\n",
    "    def __str__(self):\n",
    "        output = 'Type is ' + repr(self.name) + ', and Dh is ' + repr(self.Dh) + ' [m]'\n",
    "        return output\n",
    "\n",
    "\n",
    "geomPipe = calculateDh(diameter=0.165e-3); print(geomPipe)\n",
    "Dh = geomPipe.Dh\n",
    "print(\"Hydraulic Diameter=%g\" %Dh)\n",
    "\n",
    "## Mass flow rate from experiment for six nozzles\n",
    "mf = 0.014/8 #For one nozzle, total 8 \n",
    "print(\"mf\", mf, \"[kg/s]\")\n",
    "print(\"X-sectional Area\", geomPipe.Area)\n",
    "## Approx max velocity in the pipe\n",
    "Ux = mf/(geomPipe.Area*rho)\n",
    "Re = geomPipe.Re(rho,mu,Ux)\n",
    "print(\"Re (based on Dh) =\", Re)\n",
    "\n",
    "\n",
    "# Taylor based length scale\n",
    "lambda_T = Dh*(10**0.5)*Re**(-0.5)\n",
    "print(\"lambda_T\", lambda_T,  \"[m]\")\n",
    "\n",
    "\n",
    "## Friction Factor\n",
    "f = 0.3164/Re**0.25\n",
    "print(\"f =\", f)\n",
    "# Simplified Cf for plate\n",
    "Cf = 0.058/Re**0.2\n",
    "print(\"Cf =\", Cf)\n",
    "\n",
    "tau_w = 0.25*f*0.5*rho*Ux**2\n",
    "print(\"tau_w\", tau_w)\n",
    "tau_w_Cf = 0.5*Cf*rho*Ux**2\n",
    "print(\"tau_w_Cf\", tau_w_Cf)\n",
    "\n",
    "uTau = (tau_w_Cf/rho)**0.5\n",
    "print(\"uTau\", uTau)\n",
    "uStar = pow(tau_w/rho,0.5)\n",
    "uStar = (tau_w/rho)**0.5\n",
    "print(\"uStar\", uStar)\n",
    "delta_vsl = 5*nu/uStar\n",
    "delta_vsl_Cf = 5*nu/uTau\n",
    "print(\"viscous sub layer thickness =\", delta_vsl)\n",
    "print(\"viscous sub layer thickness Cf =\", delta_vsl_Cf)\n",
    "lv = 5.0*pow(Re,(-7.0/8.0))\n",
    "print(\"lv\", lv)\n",
    "\n",
    "## Cell point bsaed on yPlus\n",
    "yPlus = 1.0\n",
    "firstCellHeight = yPlus*mu/(uStar*rho)\n",
    "firstCellHeight_Cf = yPlus*mu/(uTau*rho)\n",
    "print('yPlus = ', yPlus, \"requires first cell height [m]\", \"{:.3e}\".format(firstCellHeight))\n",
    "print('yPlus = ', yPlus, \"requires first cell height [m] with Cf \", \"{:.3e}\".format(firstCellHeight_Cf))"
   ]
  },
  {
   "cell_type": "markdown",
   "metadata": {},
   "source": [
    "## Turbulence Modeling"
   ]
  },
  {
   "cell_type": "code",
   "execution_count": 130,
   "metadata": {},
   "outputs": [
    {
     "name": "stdout",
     "output_type": "stream",
     "text": [
      "Din 0.000165\n",
      "mixingLength 8.25e-06\n",
      "UxPrime 6.486408062066809\n",
      "k 21.03674477382265 [m^2/s^2]\n",
      "epsilon 1.921745e+06 [m^2/s^3]\n",
      "nut 2.072544408089948e-05 [m^2/s]\n",
      "omega 1.015020e+06 [1/s]\n",
      "omega_wall 2.733423e+06\n",
      "DeltaT 1.5416853063070518e-08\n",
      "DeltaT_CoAc 5.65685424949238e-09\n",
      "Prandtl Number  6.310712581375123\n",
      "Turbulent Prandtl Number Prt  0.35538593985061406\n",
      "mut =  0.013075245783122726 [Pa-s] or [Kg/m/s]\n",
      "alphat (mut/Prt), Prt = 0.35538593985061406 gives 3.679168e-02 [Pa-s] or [Kg/m/s]\n",
      "alphat based on Prt=0.7 is 1.867892e-02 [Pa-s] or [Kg/m/s]\n"
     ]
    }
   ],
   "source": [
    "lt_scale = 5 # turbulent lenght scale\n",
    "Din = Dh\n",
    "print(\"Din\", Din)\n",
    "lt = Din*lt_scale/100\n",
    "print(\"mixingLength\", lt)\n",
    "It = 5 # turbulence intensity\n",
    "UxPrime = Ux*It/100\n",
    "print(\"UxPrime\", UxPrime)\n",
    "k = 0.5*(UxPrime**2)\n",
    "print(\"k\", k,  \"[m^2/s^2]\")\n",
    "epsilon = 0.09**0.75*k**1.5/lt\n",
    "print(\"epsilon\", '{0:e}'.format(epsilon), \"[m^2/s^3]\")\n",
    "nut = 0.09*k**2/epsilon\n",
    "print(\"nut\", nut,  \"[m^2/s]\")\n",
    "omega = 0.09**(-0.25)*k**0.5/lt\n",
    "print(\"omega\", '{0:e}'.format(omega), \"[1/s]\")\n",
    "deltaD1 = 89.4/20 #distanToWall\n",
    "deltaD1 = 3.5e-6\n",
    "omega_wall = 6*nu/(0.075*deltaD1**2)\n",
    "print(\"omega_wall\", '{0:e}'.format(omega_wall))\n",
    "\n",
    "\n",
    "\n",
    "Co = 0.25\n",
    "# Approximate cells\n",
    "nxCells = 35\n",
    "DeltaX = Din/nxCells\n",
    "DeltaX = 8e-6\n",
    "DeltaT = Co*DeltaX/Ux\n",
    "print(\"DeltaT\", DeltaT)\n",
    "psi_l = 5e-7\n",
    "psi_v = 2.5e-6\n",
    "CoAc = 12\n",
    "DeltaT_CoAc = DeltaX*(psi_l**0.5)\n",
    "print(\"DeltaT_CoAc\", DeltaT_CoAc)\n",
    "\n",
    "# Prandtl number for fluid $$Pr_t = 6.374Re^{-0.238} Pr^{-0.161}$$\n",
    "Pr_l =  13\n",
    "Pr_l = Pr # from coolprop\n",
    "print(\"Prandtl Number \", Pr)\n",
    "Prt_l = 6.374*pow(Re,-0.238)*pow(Pr_l,-0.161)\n",
    "print(\"Turbulent Prandtl Number Prt \", Prt_l)\n",
    "mut = nut*rho\n",
    "print(\"mut = \", mut, \"[Pa-s] or [Kg/m/s]\")\n",
    "alphat = mut/Prt_l\n",
    "print(\"alphat (mut/Prt), Prt =\",Prt_l, \"gives\", '{0:e}'.format(alphat), \"[Pa-s] or [Kg/m/s]\")\n",
    "alphat = mut/0.7\n",
    "print(\"alphat based on Prt=0.7 is\", '{0:e}'.format(alphat), \"[Pa-s] or [Kg/m/s]\")"
   ]
  }
 ],
 "metadata": {
  "kernelspec": {
   "display_name": "Python 3",
   "language": "python",
   "name": "python3"
  },
  "language_info": {
   "codemirror_mode": {
    "name": "ipython",
    "version": 3
   },
   "file_extension": ".py",
   "mimetype": "text/x-python",
   "name": "python",
   "nbconvert_exporter": "python",
   "pygments_lexer": "ipython3",
   "version": "3.7.1"
  }
 },
 "nbformat": 4,
 "nbformat_minor": 2
}
